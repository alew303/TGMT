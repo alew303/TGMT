{
 "cells": [
  {
   "cell_type": "code",
   "execution_count": 1,
   "id": "948d3025-3442-4e5b-92e9-19c44f055ef2",
   "metadata": {},
   "outputs": [
    {
     "name": "stdout",
     "output_type": "stream",
     "text": [
      "Defaulting to user installation because normal site-packages is not writeable\n",
      "Collecting opencv-python\n",
      "  Downloading opencv_python-4.10.0.84-cp37-abi3-win_amd64.whl.metadata (20 kB)\n",
      "Requirement already satisfied: numpy>=1.21.2 in d:\\anaconda\\lib\\site-packages (from opencv-python) (1.26.4)\n",
      "Downloading opencv_python-4.10.0.84-cp37-abi3-win_amd64.whl (38.8 MB)\n",
      "   ---------------------------------------- 0.0/38.8 MB ? eta -:--:--\n",
      "   ---------------------------------------- 0.0/38.8 MB ? eta -:--:--\n",
      "   ---------------------------------------- 0.1/38.8 MB 1.3 MB/s eta 0:00:30\n",
      "   ---------------------------------------- 0.2/38.8 MB 2.0 MB/s eta 0:00:20\n",
      "   ---------------------------------------- 0.5/38.8 MB 3.3 MB/s eta 0:00:12\n",
      "   - -------------------------------------- 1.0/38.8 MB 5.3 MB/s eta 0:00:08\n",
      "   -- ------------------------------------- 2.0/38.8 MB 9.1 MB/s eta 0:00:05\n",
      "   --- ------------------------------------ 3.6/38.8 MB 13.7 MB/s eta 0:00:03\n",
      "   --- ------------------------------------ 3.6/38.8 MB 13.7 MB/s eta 0:00:03\n",
      "   --- ------------------------------------ 3.6/38.8 MB 11.1 MB/s eta 0:00:04\n",
      "   ------ --------------------------------- 6.4/38.8 MB 16.4 MB/s eta 0:00:02\n",
      "   ------ --------------------------------- 6.7/38.8 MB 14.7 MB/s eta 0:00:03\n",
      "   --------- ------------------------------ 9.1/38.8 MB 17.6 MB/s eta 0:00:02\n",
      "   ---------- ----------------------------- 10.1/38.8 MB 19.1 MB/s eta 0:00:02\n",
      "   ----------- ---------------------------- 11.5/38.8 MB 25.2 MB/s eta 0:00:02\n",
      "   ------------ --------------------------- 12.3/38.8 MB 25.2 MB/s eta 0:00:02\n",
      "   -------------- ------------------------- 13.7/38.8 MB 24.2 MB/s eta 0:00:02\n",
      "   -------------- ------------------------- 14.5/38.8 MB 28.4 MB/s eta 0:00:01\n",
      "   --------------- ------------------------ 15.4/38.8 MB 26.2 MB/s eta 0:00:01\n",
      "   ---------------- ----------------------- 16.4/38.8 MB 22.6 MB/s eta 0:00:01\n",
      "   ----------------- ---------------------- 17.3/38.8 MB 26.2 MB/s eta 0:00:01\n",
      "   ------------------ --------------------- 18.2/38.8 MB 24.2 MB/s eta 0:00:01\n",
      "   ------------------- -------------------- 19.2/38.8 MB 21.8 MB/s eta 0:00:01\n",
      "   -------------------- ------------------- 20.2/38.8 MB 19.8 MB/s eta 0:00:01\n",
      "   --------------------- ------------------ 21.2/38.8 MB 19.9 MB/s eta 0:00:01\n",
      "   ---------------------- ----------------- 22.2/38.8 MB 19.9 MB/s eta 0:00:01\n",
      "   ----------------------- ---------------- 22.9/38.8 MB 21.1 MB/s eta 0:00:01\n",
      "   ------------------------ --------------- 23.9/38.8 MB 19.9 MB/s eta 0:00:01\n",
      "   ------------------------- -------------- 24.9/38.8 MB 20.5 MB/s eta 0:00:01\n",
      "   -------------------------- ------------- 25.9/38.8 MB 20.5 MB/s eta 0:00:01\n",
      "   --------------------------- ------------ 26.9/38.8 MB 20.5 MB/s eta 0:00:01\n",
      "   ---------------------------- ----------- 27.9/38.8 MB 20.5 MB/s eta 0:00:01\n",
      "   ----------------------------- ---------- 28.9/38.8 MB 21.1 MB/s eta 0:00:01\n",
      "   ------------------------------ --------- 29.8/38.8 MB 21.1 MB/s eta 0:00:01\n",
      "   ------------------------------- -------- 30.9/38.8 MB 21.1 MB/s eta 0:00:01\n",
      "   -------------------------------- ------- 31.9/38.8 MB 21.1 MB/s eta 0:00:01\n",
      "   --------------------------------- ------ 32.7/38.8 MB 21.1 MB/s eta 0:00:01\n",
      "   ---------------------------------- ----- 33.6/38.8 MB 20.5 MB/s eta 0:00:01\n",
      "   ----------------------------------- ---- 34.6/38.8 MB 21.1 MB/s eta 0:00:01\n",
      "   ------------------------------------ --- 35.6/38.8 MB 20.5 MB/s eta 0:00:01\n",
      "   ------------------------------------- -- 36.6/38.8 MB 21.1 MB/s eta 0:00:01\n",
      "   -------------------------------------- - 37.7/38.8 MB 21.1 MB/s eta 0:00:01\n",
      "   ---------------------------------------  38.6/38.8 MB 21.1 MB/s eta 0:00:01\n",
      "   ---------------------------------------  38.8/38.8 MB 21.1 MB/s eta 0:00:01\n",
      "   ---------------------------------------  38.8/38.8 MB 21.1 MB/s eta 0:00:01\n",
      "   ---------------------------------------- 38.8/38.8 MB 17.7 MB/s eta 0:00:00\n",
      "Installing collected packages: opencv-python\n",
      "Successfully installed opencv-python-4.10.0.84\n"
     ]
    }
   ],
   "source": [
    "#!pip install opencv-python"
   ]
  },
  {
   "cell_type": "code",
   "execution_count": 2,
   "id": "05d03138-8c8d-4dfe-ab7f-1ce846fdbcc6",
   "metadata": {},
   "outputs": [],
   "source": [
    "def display(title, img):\n",
    "    cv2.imshow(title, img)\n",
    "    # Chờ một khoảng thời gian\n",
    "    cv2.waitKey(0)\n",
    "    # Đóng window\n",
    "    cv2.destroyWindow(title)"
   ]
  },
  {
   "cell_type": "code",
   "execution_count": 3,
   "id": "f87585f5-6fd4-4faa-874e-c948c9a61140",
   "metadata": {},
   "outputs": [],
   "source": [
    "# Import thư viện\n",
    "import cv2"
   ]
  },
  {
   "cell_type": "code",
   "execution_count": 5,
   "id": "c00700aa-48b0-40e9-9f1e-1bdb96a8b7ef",
   "metadata": {},
   "outputs": [
    {
     "name": "stdout",
     "output_type": "stream",
     "text": [
      "[[[230 244 255]\n",
      "  [230 244 255]\n",
      "  [230 244 255]\n",
      "  ...\n",
      "  [230 245 254]\n",
      "  [232 247 255]\n",
      "  [194 209 218]]\n",
      "\n",
      " [[230 244 255]\n",
      "  [230 244 255]\n",
      "  [230 244 255]\n",
      "  ...\n",
      "  [230 245 254]\n",
      "  [232 247 255]\n",
      "  [194 209 218]]\n",
      "\n",
      " [[230 244 255]\n",
      "  [230 244 255]\n",
      "  [230 244 255]\n",
      "  ...\n",
      "  [230 245 254]\n",
      "  [232 247 255]\n",
      "  [194 209 218]]\n",
      "\n",
      " ...\n",
      "\n",
      " [[230 244 255]\n",
      "  [230 244 255]\n",
      "  [230 244 255]\n",
      "  ...\n",
      "  [230 245 254]\n",
      "  [232 247 255]\n",
      "  [194 209 218]]\n",
      "\n",
      " [[230 244 255]\n",
      "  [230 244 255]\n",
      "  [230 244 255]\n",
      "  ...\n",
      "  [230 245 254]\n",
      "  [232 247 255]\n",
      "  [194 209 218]]\n",
      "\n",
      " [[230 244 255]\n",
      "  [230 244 255]\n",
      "  [230 244 255]\n",
      "  ...\n",
      "  [230 245 254]\n",
      "  [232 247 255]\n",
      "  [194 209 218]]]\n"
     ]
    }
   ],
   "source": [
    "# Đọc một ảnh (nhan TAB de nhin autocomplete)\n",
    "path= 'D:/TGMT/05.jpg'\n",
    "img = cv2.imread(path)\n",
    "# In thông tin của ảnh\n",
    "print(img)"
   ]
  },
  {
   "cell_type": "code",
   "execution_count": 6,
   "id": "754536f6-c087-4f07-9331-94d4e0698bd5",
   "metadata": {},
   "outputs": [
    {
     "name": "stdout",
     "output_type": "stream",
     "text": [
      "(545, 474, 3)\n",
      "545\n",
      "474\n",
      "3\n"
     ]
    }
   ],
   "source": [
    "# Lấy kích thước\n",
    "print(img.shape)\n",
    "x, y, z = img.shape\n",
    "print(x)\n",
    "print(y)\n",
    "print(z)"
   ]
  },
  {
   "cell_type": "code",
   "execution_count": 11,
   "id": "b9424e77-c3ad-4b61-967e-f72a11d7b386",
   "metadata": {},
   "outputs": [],
   "source": [
    "# Hiển thị ảnh\n",
    "cv2.imshow('Window', img)\n",
    "# Chờ một khoảng thời gian\n",
    "cv2.waitKey(10000)\n",
    "# Đóng window\n",
    "cv2.destroyWindow('Window')"
   ]
  },
  {
   "cell_type": "code",
   "execution_count": 12,
   "id": "30c1eb40-75cd-4714-a59d-6384c7f6269e",
   "metadata": {},
   "outputs": [],
   "source": [
    "# Tách màu\n",
    "b, g, r = cv2.split(img)\n",
    "cv2.imshow('Window', img)\n",
    "cv2.imshow('Red', r)\n",
    "cv2.imshow('Green', g)\n",
    "cv2.imshow('Blue', b)\n",
    "\n",
    "# Chờ một khoảng thời gian\n",
    "cv2.waitKey(0)\n",
    "# Đóng window\n",
    "cv2.destroyAllWindows()"
   ]
  },
  {
   "cell_type": "code",
   "execution_count": 13,
   "id": "5d268ef9-122a-4a09-becd-87a08a815df2",
   "metadata": {},
   "outputs": [],
   "source": [
    "gray_img = cv2.cvtColor(img, cv2.COLOR_BGR2GRAY)\n",
    "img_2 = cv2.cvtColor(img, cv2.COLOR_BGR2RGB)\n",
    "cv2.imshow('Window', img)\n",
    "cv2.imshow('gray_img', gray_img)\n",
    "cv2.imshow('img_2', img_2)\n",
    "# Chờ một khoảng thời gian\n",
    "cv2.waitKey(0)\n",
    "# Đóng window\n",
    "cv2.destroyAllWindows()"
   ]
  },
  {
   "cell_type": "code",
   "execution_count": 16,
   "id": "3e738956-b93a-4d10-9378-febfb896dfe3",
   "metadata": {},
   "outputs": [],
   "source": [
    "# Thay đổi thông số của điểm ảnh\n",
    "height, width, z = img.shape\n",
    "quater_h = height/2\n",
    "quater_w = width/2\n",
    "\n",
    "# geen color\n",
    "green_color = (0,255,0)\n",
    "\n",
    "# copy ảnh\n",
    "img2 = img.copy()\n",
    "\n",
    "# thay đổi màu của góc 1/4 bên trái trên\n",
    "\n",
    "for y in range(int(quater_h)):\n",
    "    for x in range(int(quater_w)):\n",
    "        img2[y, x] = green_color\n",
    "# Hiển thị\n",
    "display('Window', img)\n",
    "display('Window-2', img2)"
   ]
  },
  {
   "cell_type": "code",
   "execution_count": null,
   "id": "b7ac0d0e-6fca-41d8-8f86-2433e5f16a5c",
   "metadata": {},
   "outputs": [],
   "source": []
  }
 ],
 "metadata": {
  "kernelspec": {
   "display_name": "Python 3 (ipykernel)",
   "language": "python",
   "name": "python3"
  },
  "language_info": {
   "codemirror_mode": {
    "name": "ipython",
    "version": 3
   },
   "file_extension": ".py",
   "mimetype": "text/x-python",
   "name": "python",
   "nbconvert_exporter": "python",
   "pygments_lexer": "ipython3",
   "version": "3.12.4"
  }
 },
 "nbformat": 4,
 "nbformat_minor": 5
}
