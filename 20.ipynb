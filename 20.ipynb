{
 "cells": [
  {
   "cell_type": "code",
   "execution_count": 1,
   "id": "4d270ae0-ff73-4932-99c3-47da2fdcf931",
   "metadata": {},
   "outputs": [],
   "source": [
    "import cv2\n",
    "import numpy as np"
   ]
  },
  {
   "cell_type": "code",
   "execution_count": 2,
   "id": "9aec6c3e-10b9-4560-8ba0-b9bb74ab040e",
   "metadata": {},
   "outputs": [],
   "source": [
    "def display(title, img):\n",
    "    cv2.imshow(title, img)\n",
    "    # Chờ một khoảng thời gian\n",
    "    cv2.waitKey(0)\n",
    "    # Đóng window\n",
    "    cv2.destroyWindow(title)"
   ]
  },
  {
   "cell_type": "code",
   "execution_count": 11,
   "id": "435fc8a8-7400-49b2-a067-71366c56fb6e",
   "metadata": {},
   "outputs": [],
   "source": [
    "# Tạo một ảnh\n",
    "img =  np.zeros((400, 400, 3), dtype=np.uint8)\n",
    "display('Image', img)"
   ]
  },
  {
   "cell_type": "code",
   "execution_count": 12,
   "id": "a067c730-3a8d-4a70-bb83-78cd0fe34731",
   "metadata": {},
   "outputs": [],
   "source": [
    "# Vẽ đường thẳng\n",
    "cv2.line(img, (50, 50) , (350, 50), (0,0,255), 2)\n",
    "display('Image', img)"
   ]
  },
  {
   "cell_type": "code",
   "execution_count": 13,
   "id": "a85475d6-a040-4297-8c82-5c18a8f35180",
   "metadata": {},
   "outputs": [],
   "source": [
    "# Vẽ hình tròn\n",
    "cv2.circle(img, (100,100), 50, (0, 255, 0), -1)\n",
    "display('Image', img)"
   ]
  },
  {
   "cell_type": "code",
   "execution_count": 15,
   "id": "c0f52f98-f30c-4ea1-b725-a6a9b90a91b8",
   "metadata": {},
   "outputs": [],
   "source": [
    "# Vẽ hình chữ nhật\n",
    "cv2.rectangle(img, (100,100),(300,300), (255, 0, 0), -1)\n",
    "display('Image', img)"
   ]
  },
  {
   "cell_type": "code",
   "execution_count": 16,
   "id": "64671b4f-6644-409a-b7c7-33d935961794",
   "metadata": {},
   "outputs": [],
   "source": [
    "# Ghi text trên hình ảnh\n",
    "content = 'Vu Ngoc Ky Duyen'\n",
    "font = cv2.FONT_HERSHEY_SIMPLEX\n",
    "cv2.putText(img, content, (10, 380), font, 0.6, (255, 255, 255), 2)\n",
    "display('Image', img)"
   ]
  },
  {
   "cell_type": "code",
   "execution_count": null,
   "id": "4fb1e4a0-b958-4b93-9422-f3fb65f9b4f6",
   "metadata": {},
   "outputs": [],
   "source": []
  }
 ],
 "metadata": {
  "kernelspec": {
   "display_name": "Python 3 (ipykernel)",
   "language": "python",
   "name": "python3"
  },
  "language_info": {
   "codemirror_mode": {
    "name": "ipython",
    "version": 3
   },
   "file_extension": ".py",
   "mimetype": "text/x-python",
   "name": "python",
   "nbconvert_exporter": "python",
   "pygments_lexer": "ipython3",
   "version": "3.12.4"
  }
 },
 "nbformat": 4,
 "nbformat_minor": 5
}
